{
 "cells": [
  {
   "cell_type": "code",
   "execution_count": 3,
   "metadata": {},
   "outputs": [
    {
     "name": "stdout",
     "output_type": "stream",
     "text": [
      "User ID:  DainikBhaskar\n",
      "Description:  Welcome to the Official Twitter page of Worlds Largest read Hindi News Daily\n",
      "No of Followers: 767654\n",
      "No of Tweets : 130496\n",
      "Website Link : http://t.co/otCRDOPRUV\n"
     ]
    }
   ],
   "source": [
    "import tweepy\n",
    "import json\n",
    "from tweepy import Stream\n",
    "from tweepy import OAuthHandler\n",
    "from tweepy.streaming import StreamListener\n",
    "consumer_key = \"0bEh2WjzKqYh4hIvQS6VwqIjR\" \n",
    "consumer_secret = \"BsOx7vXuDJ0m0zczSqfw4xftwvDOkbKrRTdReF9pTxpAbGW2Ms\"\n",
    "access_token = \"1169646755190693888-2EbkmiYHfc4D6g9pubqlGH1u4PWoaE\"\n",
    "access_token_secret = \"2lCeBuYg8MNxCT85Bc5queSytSANJ6l62HJNpo5SB9J7D\"\n",
    "auth = tweepy.OAuthHandler(consumer_key, consumer_secret) \n",
    "auth.set_access_token(access_token, access_token_secret)  \n",
    "api = tweepy.API(auth)\n",
    "dic={}\n",
    "\n",
    "class TweetListener(StreamListener):\n",
    "\n",
    "    def on_data(self, data):\n",
    "        print (data)\n",
    "        return True\n",
    "\n",
    "    def on_error(self, status):\n",
    "        print (status)\n",
    "\n",
    "def get_tweets(username): \n",
    "    tweets_no=200\n",
    "    tweets = api.user_timeline(screen_name=username, count=tweets_no, tweet_mode='extended') \n",
    "    result=[]\n",
    "    i=1\n",
    "    for tweet in tweets:\n",
    "        dic={\n",
    "            \n",
    "            \"Tweet ID\":tweet.id,\n",
    "            \"Tweet Text\":tweet.full_text,\n",
    "            \"Tweet Date&Time\":str(tweet.created_at),\n",
    "            \"Likes\":tweet.favorite_count,\n",
    "            \"Retweet_count\":tweet.retweet_count,\n",
    "            \"Users_mentions\":list(map(lambda x: {\"name\":x['screen_name'],\n",
    "            \"User_id\":x['id_str']},tweet.entities['user_mentions'])),\n",
    "            \"Hashtags\":list(map(lambda x: x['text'],tweet.entities['hashtags']))\n",
    "            \n",
    "            }\n",
    "        result.append(dic)\n",
    "        i+=1\n",
    "    return result\n",
    "    print (dic)\n",
    "\n",
    "def get_user_info(username):\n",
    "    twitterStream = Stream(auth,TweetListener())\n",
    "    user = api.get_user(username)\n",
    "    result=get_tweets(username)\n",
    "    data={\n",
    "        \n",
    "        \"Profile Name\":user.name,\n",
    "        \"Twitter ID\":user.screen_name,\n",
    "        \"Bio\":user.description,\n",
    "        \"Location\":user.location,\n",
    "        \"URL\":user.url,\n",
    "        \"Joined\":str(user.created_at),\n",
    "        \"Following\":str(user.friends_count),\n",
    "        \"Followers\":str(user.followers_count),\n",
    "        \"Profile Image\":user.profile_image_url_https,\n",
    "        \"Tweets\":result\n",
    "        \n",
    "        }\n",
    "    print (\"User ID: \",user.screen_name)\n",
    "    print (\"Description: \",user.description)\n",
    "    print (\"No of Followers:\",user.followers_count)\n",
    "    print (\"No of Tweets :\",user.statuses_count)\n",
    "    print (\"Website Link :\",user.url)\n",
    "    with open('db_twitter.json', 'w') as f:\n",
    "                json.dump(data, f, indent=2,ensure_ascii=False)\n",
    "\n",
    "get_user_info('dainikbhaskar')"
   ]
  },
  {
   "cell_type": "code",
   "execution_count": null,
   "metadata": {},
   "outputs": [],
   "source": []
  }
 ],
 "metadata": {
  "kernelspec": {
   "display_name": "Python 3",
   "language": "python",
   "name": "python3"
  },
  "language_info": {
   "codemirror_mode": {
    "name": "ipython",
    "version": 3
   },
   "file_extension": ".py",
   "mimetype": "text/x-python",
   "name": "python",
   "nbconvert_exporter": "python",
   "pygments_lexer": "ipython3",
   "version": "3.6.8"
  }
 },
 "nbformat": 4,
 "nbformat_minor": 2
}
